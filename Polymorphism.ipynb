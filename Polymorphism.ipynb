{
 "cells": [
  {
   "cell_type": "code",
   "execution_count": 4,
   "id": "e8d0bedd",
   "metadata": {},
   "outputs": [
    {
     "name": "stdout",
     "output_type": "stream",
     "text": [
      "SAIL!\n",
      "Drive!\n",
      "Fly!\n"
     ]
    }
   ],
   "source": [
    "class Car:\n",
    "    def __init__(self, brand, model):\n",
    "        self.brand = brand \n",
    "        self.model = model \n",
    "    def move(self):\n",
    "        print(\"SAIL!\")  \n",
    "class Boat:\n",
    "    def __init__(self, brand, model):\n",
    "        self.brand = brand \n",
    "        self.model =model \n",
    "    def move(self):\n",
    "        print(\"Drive!\")\n",
    "class Plane:\n",
    "    def __init__(self, brand, model):\n",
    "        self.brand = brand \n",
    "        self.model = model \n",
    "    def move(self):\n",
    "        print(\"Fly!\") \n",
    "car1 = Car(\"Ford\", \"Mustang\") \n",
    "boat1 = Boat(\"Ibiza\", \"Touring 20\") \n",
    "plane1 = Plane(\"Boening\", \"747\") \n",
    "for x in (car1, boat1, plane1):\n",
    "    x.move()"
   ]
  },
  {
   "cell_type": "code",
   "execution_count": 6,
   "id": "d5540d46",
   "metadata": {},
   "outputs": [
    {
     "name": "stdout",
     "output_type": "stream",
     "text": [
      "This is data Science Course\n",
      "This is Full Stack Course\n",
      "This is data science Department2\n",
      "This is Full Stack Course2\n"
     ]
    }
   ],
   "source": [
    "class dep:\n",
    "    def data_Science(self):\n",
    "        print(\"This is data Science Course\") \n",
    "    def full_stack(self):\n",
    "        print(\"This is Full Stack Course\") \n",
    "class dep1:\n",
    "    def data_Science(self):\n",
    "        print(\"This is data science Department2\") \n",
    "    def full_stack(self):\n",
    "        print(\"This is Full Stack Course2\") \n",
    "d1 =dep() \n",
    "d2 = dep1() \n",
    "for i in (d1,d2):\n",
    "    i.data_Science() \n",
    "    i.full_stack()"
   ]
  },
  {
   "cell_type": "code",
   "execution_count": 14,
   "id": "85d48db2",
   "metadata": {},
   "outputs": [
    {
     "name": "stdout",
     "output_type": "stream",
     "text": [
      "Ford\n",
      "Mustang\n",
      "Move!\n",
      "Ibiza\n",
      "Touring 20\n",
      "Sail!\n",
      "Boening\n",
      "747\n",
      "Fly!\n"
     ]
    }
   ],
   "source": [
    "class Vehicle:\n",
    "    def __init__(self, brand, model):\n",
    "        self.brand = brand \n",
    "        self.model = model\n",
    "    def move(self):\n",
    "        print(\"Move!\") \n",
    "class Car(Vehicle):\n",
    "    pass \n",
    "class Boat(Vehicle):\n",
    "    def move(self):\n",
    "        print(\"Sail!\") \n",
    "class Plane(Vehicle):\n",
    "    def move(self):\n",
    "        print(\"Fly!\") \n",
    "car1 = Car(\"Ford\", \"Mustang\") \n",
    "boat1 = Boat (\"Ibiza\", \"Touring 20\")\n",
    "plane = Plane(\"Boeing\", \"747\")  \n",
    "for x in (car1, boat1, plane1):\n",
    "    print(x.brand)\n",
    "    print(x.model)\n",
    "    x.move()"
   ]
  },
  {
   "cell_type": "code",
   "execution_count": null,
   "id": "2c531710",
   "metadata": {},
   "outputs": [],
   "source": []
  },
  {
   "cell_type": "code",
   "execution_count": null,
   "id": "3cce683f",
   "metadata": {},
   "outputs": [],
   "source": []
  }
 ],
 "metadata": {
  "kernelspec": {
   "display_name": "Python 3 (ipykernel)",
   "language": "python",
   "name": "python3"
  },
  "language_info": {
   "codemirror_mode": {
    "name": "ipython",
    "version": 3
   },
   "file_extension": ".py",
   "mimetype": "text/x-python",
   "name": "python",
   "nbconvert_exporter": "python",
   "pygments_lexer": "ipython3",
   "version": "3.9.12"
  }
 },
 "nbformat": 4,
 "nbformat_minor": 5
}
