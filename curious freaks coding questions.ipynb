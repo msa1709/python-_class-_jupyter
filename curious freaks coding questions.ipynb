{
 "cells": [
  {
   "cell_type": "code",
   "execution_count": 1,
   "id": "619294fb",
   "metadata": {},
   "outputs": [
    {
     "name": "stdout",
     "output_type": "stream",
     "text": [
      "2\n",
      "Even\n"
     ]
    }
   ],
   "source": [
    "#Find even or odd  \n",
    "  \n",
    "def isEven(n): \n",
    "    return (n % 2 == 0) \n",
    "  \n",
    "  \n",
    "# Driver code \n",
    "n = int(input())\n",
    "print(\"Even\" if isEven(n) else \"Odd\") \n",
    "  "
   ]
  },
  {
   "cell_type": "code",
   "execution_count": null,
   "id": "cbfff479",
   "metadata": {},
   "outputs": [
    {
     "name": "stdout",
     "output_type": "stream",
     "text": [
      "Enter the number:32\n",
      "Last digit is: 2\n"
     ]
    }
   ],
   "source": [
    "#Find last digit in a number \n",
    "n=int(input(\"Enter the number:\")) \n",
    "print(\"Last digit is:\", abs(n)%10)  \n",
    "\n",
    "#abs is the function which changes the negative value into positive value \n",
    "#example input =abs(-44 )and the output will be output =44  \n",
    "#find last digit other method \n",
    "def lastdigit(n):\n",
    "    return n%10 \n",
    "n=int(input()) \n",
    "print(lastdigit(n))"
   ]
  },
  {
   "cell_type": "code",
   "execution_count": null,
   "id": "ad87a592",
   "metadata": {},
   "outputs": [],
   "source": []
  },
  {
   "cell_type": "code",
   "execution_count": 9,
   "id": "4cb38c81",
   "metadata": {},
   "outputs": [
    {
     "name": "stdout",
     "output_type": "stream",
     "text": [
      "43\n",
      "2\n"
     ]
    }
   ],
   "source": [
    "#Count digits in a number(Solving above last digit prob wil make this easy for you \n",
    "def countdigits(n):\n",
    "    count =0 \n",
    "    while n!=0:\n",
    "        n //=10\n",
    "        count += 1 \n",
    "    return count\n",
    "    \n",
    "\n",
    "n= int(input()) \n",
    "print(countdigits(n))"
   ]
  },
  {
   "cell_type": "code",
   "execution_count": 2,
   "id": "a418a514",
   "metadata": {},
   "outputs": [
    {
     "name": "stdout",
     "output_type": "stream",
     "text": [
      "5\n"
     ]
    }
   ],
   "source": [
    "n='26235' \n",
    "print(len(n))\n"
   ]
  },
  {
   "cell_type": "code",
   "execution_count": 2,
   "id": "e89bd381",
   "metadata": {},
   "outputs": [
    {
     "name": "stdout",
     "output_type": "stream",
     "text": [
      "5\n"
     ]
    }
   ],
   "source": [
    "n='26235' \n",
    "print(len(n))\n"
   ]
  },
  {
   "cell_type": "code",
   "execution_count": 1,
   "id": "e8a4e565",
   "metadata": {},
   "outputs": [
    {
     "data": {
      "text/plain": [
       "12"
      ]
     },
     "execution_count": 1,
     "metadata": {},
     "output_type": "execute_result"
    }
   ],
   "source": [
    "123//10"
   ]
  },
  {
   "cell_type": "code",
   "execution_count": 10,
   "id": "a35fa568",
   "metadata": {},
   "outputs": [
    {
     "name": "stdout",
     "output_type": "stream",
     "text": [
      "Enter the number:343445\n",
      "544343\n"
     ]
    }
   ],
   "source": [
    "#Reverse a number(Try thinking how you can use above logic in solving this) \n",
    "def reversenum(a):\n",
    "    print(a[::-1])\n",
    "    \n",
    "\n",
    "\n",
    "a =input(\"Enter the number:\")\n",
    "reversenum(a)\n",
    "\n"
   ]
  },
  {
   "cell_type": "code",
   "execution_count": null,
   "id": "03d70906",
   "metadata": {},
   "outputs": [],
   "source": [
    "#Find power of a number\n",
    "def powers(n,b):\n",
    "    a =n**b \n",
    "    print(a)\n",
    "\n",
    "\n",
    "n=int(input(\"Enter the number\")) \n",
    "b=int(input(\"Enter the number\"))  \n",
    "powers(n,b)\n"
   ]
  },
  {
   "cell_type": "code",
   "execution_count": 15,
   "id": "02a68544",
   "metadata": {},
   "outputs": [
    {
     "name": "stdout",
     "output_type": "stream",
     "text": [
      "56\n"
     ]
    }
   ],
   "source": [
    "a = 98\n",
    "b = 56\n",
    "result = min(a, b) \n",
    "print(result)\n",
    "\n",
    "\n",
    " "
   ]
  },
  {
   "cell_type": "code",
   "execution_count": 39,
   "id": "6cae0f80",
   "metadata": {},
   "outputs": [
    {
     "name": "stdout",
     "output_type": "stream",
     "text": [
      "8\n",
      "1\n",
      "2\n",
      "4\n",
      "8\n"
     ]
    }
   ],
   "source": [
    "#Print all divisors of a number\n",
    "\n",
    "n=int(input())\n",
    "for i in range(1,n+1):\n",
    "    if n%i==0:\n",
    "        print(i)"
   ]
  },
  {
   "cell_type": "code",
   "execution_count": 33,
   "id": "d64e591b",
   "metadata": {},
   "outputs": [
    {
     "name": "stdout",
     "output_type": "stream",
     "text": [
      "13\n",
      "Not Prime\n"
     ]
    }
   ],
   "source": [
    "#prime numbers \n",
    "num = int(input())\n",
    "flag =0\n",
    "for i in range(2,num):\n",
    "  if num%i==0:\n",
    "    flag = 1\n",
    "    break\n",
    "if flag == 1:\n",
    "  print('Not Prime')\n",
    "else:\n",
    "  print(\"Prime\")"
   ]
  },
  {
   "cell_type": "code",
   "execution_count": 38,
   "id": "1115e88e",
   "metadata": {},
   "outputs": [
    {
     "name": "stdout",
     "output_type": "stream",
     "text": [
      "71\n",
      "Prime\n"
     ]
    }
   ],
   "source": [
    "#prime numbers \n",
    "num = int(input())\n",
    "for i in range(2,num):\n",
    "    if num%i==0:\n",
    "        print('not a prime number')\n",
    "        \n",
    "        break\n",
    "    else:\n",
    "        print(\"Prime\")\n",
    "        break"
   ]
  },
  {
   "cell_type": "code",
   "execution_count": 6,
   "id": "b6d75141",
   "metadata": {},
   "outputs": [
    {
     "name": "stdout",
     "output_type": "stream",
     "text": [
      "Enter a number: 153\n",
      "digit: 3\n",
      "sum : 27\n",
      "temp : 15\n",
      "digit: 5\n",
      "sum : 152\n",
      "temp : 1\n",
      "digit: 1\n",
      "sum : 153\n",
      "temp : 0\n",
      "153 is an Armstrong number\n"
     ]
    }
   ],
   "source": [
    "#armstrong number \n",
    "# Python program to check if the number is an Armstrong number or not\n",
    "\n",
    "# take input from the user\n",
    "num = int(input(\"Enter a number: \"))\n",
    "\n",
    "# initialize sum\n",
    "sum = 0\n",
    "\n",
    "# find the sum of the cube of each digit\n",
    "temp = num\n",
    "while temp > 0:\n",
    "    digit = temp % 10\n",
    "    print('digit:',digit)\n",
    "    sum += digit ** 3\n",
    "    print('sum :',sum)\n",
    "    temp //= 10\n",
    "    print('temp :',temp)\n",
    "\n",
    "# display the result\n",
    "if num == sum:\n",
    "   print(num,\"is an Armstrong number\")\n",
    "else:\n",
    "   print(num,\"is not an Armstrong number\")\n"
   ]
  },
  {
   "cell_type": "code",
   "execution_count": 3,
   "id": "aa5c5d45",
   "metadata": {},
   "outputs": [
    {
     "name": "stdout",
     "output_type": "stream",
     "text": [
      "enter the number153\n"
     ]
    },
    {
     "ename": "TypeError",
     "evalue": "int() argument must be a string, a bytes-like object or a number, not 'list'",
     "output_type": "error",
     "traceback": [
      "\u001b[1;31m---------------------------------------------------------------------------\u001b[0m",
      "\u001b[1;31mTypeError\u001b[0m                                 Traceback (most recent call last)",
      "Input \u001b[1;32mIn [3]\u001b[0m, in \u001b[0;36m<cell line: 4>\u001b[1;34m()\u001b[0m\n\u001b[0;32m      2\u001b[0m a\u001b[38;5;241m=\u001b[39m\u001b[38;5;28mstr\u001b[39m(n)\n\u001b[0;32m      3\u001b[0m b\u001b[38;5;241m=\u001b[39ma\u001b[38;5;241m.\u001b[39msplit() \n\u001b[1;32m----> 4\u001b[0m c\u001b[38;5;241m=\u001b[39m\u001b[38;5;28;43mint\u001b[39;49m\u001b[43m(\u001b[49m\u001b[43mb\u001b[49m\u001b[43m)\u001b[49m\n\u001b[0;32m      5\u001b[0m \u001b[38;5;28msum\u001b[39m \u001b[38;5;241m=\u001b[39m\u001b[38;5;241m0\u001b[39m\n\u001b[0;32m      6\u001b[0m \u001b[38;5;28;01mfor\u001b[39;00m i \u001b[38;5;129;01min\u001b[39;00m c:\n",
      "\u001b[1;31mTypeError\u001b[0m: int() argument must be a string, a bytes-like object or a number, not 'list'"
     ]
    }
   ],
   "source": [
    "n=int(input(\"enter the number\"))\n",
    "a=str(n)\n",
    "b=a.split() \n",
    "sum =0\n",
    "for i in b:\n",
    "    sum=sum+i**3\n",
    "    print(sum)"
   ]
  },
  {
   "cell_type": "code",
   "execution_count": 3,
   "id": "cff8e02c",
   "metadata": {},
   "outputs": [
    {
     "name": "stdout",
     "output_type": "stream",
     "text": [
      "15\n",
      "3375\n"
     ]
    }
   ],
   "source": [
    "print(153//10)\n",
    "print(15**3)"
   ]
  },
  {
   "cell_type": "code",
   "execution_count": null,
   "id": "3b58f49b",
   "metadata": {},
   "outputs": [],
   "source": []
  }
 ],
 "metadata": {
  "kernelspec": {
   "display_name": "Python 3 (ipykernel)",
   "language": "python",
   "name": "python3"
  },
  "language_info": {
   "codemirror_mode": {
    "name": "ipython",
    "version": 3
   },
   "file_extension": ".py",
   "mimetype": "text/x-python",
   "name": "python",
   "nbconvert_exporter": "python",
   "pygments_lexer": "ipython3",
   "version": "3.9.12"
  }
 },
 "nbformat": 4,
 "nbformat_minor": 5
}
