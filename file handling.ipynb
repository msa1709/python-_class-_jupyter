{
 "cells": [
  {
   "cell_type": "code",
   "execution_count": 3,
   "id": "22528f15",
   "metadata": {},
   "outputs": [
    {
     "name": "stdout",
     "output_type": "stream",
     "text": [
      "SNO ,NAME,DEGREE,ROLE,SALARY\n",
      "1,Siva ,B.B.A,Data Analyst,12000\n",
      "2,Aravind M,B.E,Developer,2300\n",
      "3,Kumar,B.E,Front End developer,12334\n",
      "4,,,,\n",
      "5,,,,\n",
      "6,,,,\n",
      "7,,,,\n",
      "8,,,,\n",
      "9,,,,\n",
      "10,,,,\n",
      "\n"
     ]
    }
   ],
   "source": [
    "f=open('file.csv', 'r')\n",
    "print(f.read())"
   ]
  },
  {
   "cell_type": "code",
   "execution_count": 9,
   "id": "5289552b",
   "metadata": {},
   "outputs": [],
   "source": [
    "import csv\n",
    "col = ['S.No', 'Name' ,'Degree', 'Role']\n",
    "row =[[1, 'Vidya' ,'BCA' ,'Developer'],\n",
    "     [2, 'Kalyani', 'B.Sc' , 'Software Developer'],\n",
    "     [3,'Aravind', 'B.E', 'Front End Developer'],\n",
    "      [4,'thowfiq', 'B.E', 'Backend Developer']] \n",
    "with open('aruvi.csv', 'w') as w:\n",
    "    writer = csv.writer(w)\n",
    "    writer.writerow(col) \n",
    "    writer.writerows(row)\n"
   ]
  },
  {
   "cell_type": "code",
   "execution_count": null,
   "id": "4570bf41",
   "metadata": {},
   "outputs": [],
   "source": []
  }
 ],
 "metadata": {
  "kernelspec": {
   "display_name": "Python 3 (ipykernel)",
   "language": "python",
   "name": "python3"
  },
  "language_info": {
   "codemirror_mode": {
    "name": "ipython",
    "version": 3
   },
   "file_extension": ".py",
   "mimetype": "text/x-python",
   "name": "python",
   "nbconvert_exporter": "python",
   "pygments_lexer": "ipython3",
   "version": "3.9.12"
  }
 },
 "nbformat": 4,
 "nbformat_minor": 5
}
