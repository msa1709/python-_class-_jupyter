{
 "cells": [
  {
   "cell_type": "code",
   "execution_count": 2,
   "id": "782145f9",
   "metadata": {},
   "outputs": [
    {
     "name": "stdout",
     "output_type": "stream",
     "text": [
      "kfnsdmbd\n",
      "sdknflksdnf\n",
      "jskadnnkds\n"
     ]
    }
   ],
   "source": [
    "file_1 = open('file3.txt', 'r') \n",
    "print(file_1.read())"
   ]
  },
  {
   "cell_type": "code",
   "execution_count": 10,
   "id": "cea68ee1",
   "metadata": {},
   "outputs": [
    {
     "name": "stdout",
     "output_type": "stream",
     "text": [
      "good \n",
      " bad\n"
     ]
    }
   ],
   "source": [
    "file_1 =open('file3.txt', 'w+')\n",
    "file_1.write(\"good \\n bad\")\n",
    "file_1.seek(0)\n",
    "print(file_1.read())"
   ]
  },
  {
   "cell_type": "code",
   "execution_count": 5,
   "id": "9aa8d179",
   "metadata": {},
   "outputs": [
    {
     "data": {
      "text/plain": [
       "25"
      ]
     },
     "execution_count": 5,
     "metadata": {},
     "output_type": "execute_result"
    }
   ],
   "source": [
    "file_2 = open('arvi.txt' , 'w')\n",
    "file_2.write(\"hi hello \\n good \\n morning\") "
   ]
  },
  {
   "cell_type": "code",
   "execution_count": null,
   "id": "215f854a",
   "metadata": {},
   "outputs": [],
   "source": [
    "#Task \n",
    "#input:\n",
    "#enter a number: 8\n",
    "#enter a number: 2 \n",
    "#enter a operator: + \n",
    "file_3 = open('arvi.txt', 'w+')\n",
    "file_3.write(number_1= int(input(\"enter a number: \")) )\n",
    "file_3.write(number_2 =int(input(\"enter a number: \")))\n",
    "file_3.write(operator = input() )\n",
    "if operator=='+':\n",
    "    values=number_1+number_2 \n",
    "\n",
    "file_3.write(str(values))\n",
    "file_3.close()\n",
    "\n"
   ]
  },
  {
   "cell_type": "code",
   "execution_count": 1,
   "id": "235cab50",
   "metadata": {},
   "outputs": [
    {
     "name": "stdout",
     "output_type": "stream",
     "text": [
      "good \n",
      " badAravind \n",
      " hi hello\n"
     ]
    }
   ],
   "source": [
    "f=open(\"file3.txt\",\"a\")\n",
    "f.write(\"Aravind \\n hi hello\") \n",
    "f.close() \n",
    "f= open(\"file3.txt\", \"r\") \n",
    "print(f.read()) \n",
    "f.close()"
   ]
  },
  {
   "cell_type": "code",
   "execution_count": 4,
   "id": "108e70cf",
   "metadata": {
    "collapsed": true
   },
   "outputs": [],
   "source": [
    "file=open(\"aramsa.txt\", 'x')\n",
    "file.write(\"hi \\n hello \\n good\")\n",
    "file.close()\n"
   ]
  },
  {
   "cell_type": "code",
   "execution_count": null,
   "id": "cb529d8f",
   "metadata": {},
   "outputs": [],
   "source": []
  },
  {
   "cell_type": "code",
   "execution_count": null,
   "id": "92ee3b8a",
   "metadata": {},
   "outputs": [],
   "source": []
  },
  {
   "cell_type": "code",
   "execution_count": 7,
   "id": "5130582a",
   "metadata": {},
   "outputs": [],
   "source": [
    "with open('msa_1.txt', 'x') as file:\n",
    "    file.write(\"hi\")"
   ]
  },
  {
   "cell_type": "code",
   "execution_count": 13,
   "id": "106770f5",
   "metadata": {},
   "outputs": [
    {
     "ename": "SyntaxError",
     "evalue": "invalid syntax (4284714233.py, line 2)",
     "output_type": "error",
     "traceback": [
      "\u001b[1;36m  Input \u001b[1;32mIn [13]\u001b[1;36m\u001b[0m\n\u001b[1;33m    no of stud:2\u001b[0m\n\u001b[1;37m       ^\u001b[0m\n\u001b[1;31mSyntaxError\u001b[0m\u001b[1;31m:\u001b[0m invalid syntax\n"
     ]
    }
   ],
   "source": [
    "#input:\n",
    "no of stud:2 \n",
    "enter name:python  \n",
    "enter a age: 91 \n",
    "enter name:python1 \n",
    "enter age:33  \n",
    "num_students = int(input(\"Enter the number of students: \"))\n",
    "\n",
    "# Open a file in write mode\n",
    "with open('msa_1.txt', 'w+') as file:\n",
    "    # Loop through the number of students\n",
    "    for i in range(num_students):\n",
    "        # Get student details from the user\n",
    "        name = input(\"Enter name: \")\n",
    "        age = int(input(\"Enter age: \"))\n",
    "\n",
    "        # Write the details to the file\n",
    "        file.write(f\"Name: {name}, Age: {age}\\n\")\n",
    "\n",
    "print(\"Student details written to file.\")"
   ]
  },
  {
   "cell_type": "code",
   "execution_count": 14,
   "id": "58ad86a4",
   "metadata": {},
   "outputs": [
    {
     "name": "stdout",
     "output_type": "stream",
     "text": [
      "Enter the number of students: 2\n",
      "Enter name: Aravind\n",
      "Enter age: 21\n",
      "Enter name: mughes\n",
      "Enter age: 12\n",
      "Student details written to file.\n"
     ]
    }
   ],
   "source": [
    "num_students = int(input(\"Enter the number of students: \"))\n",
    "\n",
    "\n",
    "# Open a file in write mode\n",
    "with open('msa_1.txt', 'w+') as file:\n",
    "    # Loop through the number of students\n",
    "    for i in range(num_students):\n",
    "        # Get student details from the user\n",
    "        name = input(\"Enter name: \")\n",
    "        age = int(input(\"Enter age: \"))\n",
    "\n",
    "        # Write the details to the file\n",
    "        file.write(f\"Name: {name}, Age: {age}\\n\")\n",
    "\n",
    "print(\"Student details written to file.\")"
   ]
  },
  {
   "cell_type": "code",
   "execution_count": null,
   "id": "69d6e631",
   "metadata": {},
   "outputs": [],
   "source": [
    "num_students = int(input(\"Enter the number of students: \"))\n",
    "\n",
    "# Open a file in write mode\n",
    "with open('msa_1.txt', 'w+') as file:\n",
    "    # Loop through the number of students\n",
    "    for i in range(num_students):\n",
    "        # Get student details from the user\n",
    "        name = input(\"Enter name: \")\n",
    "        age = int(input(\"Enter age: \"))\n",
    "\n",
    "        # Write the details to the file\n",
    "        file.write(f\"Name: {name}, Age: {age}\\n\")\n",
    "\n",
    "print(\"Student details written to file.\")"
   ]
  },
  {
   "cell_type": "code",
   "execution_count": null,
   "id": "ab48afd1",
   "metadata": {},
   "outputs": [],
   "source": []
  },
  {
   "cell_type": "code",
   "execution_count": null,
   "id": "dcc0b74a",
   "metadata": {},
   "outputs": [],
   "source": []
  }
 ],
 "metadata": {
  "kernelspec": {
   "display_name": "Python 3 (ipykernel)",
   "language": "python",
   "name": "python3"
  },
  "language_info": {
   "codemirror_mode": {
    "name": "ipython",
    "version": 3
   },
   "file_extension": ".py",
   "mimetype": "text/x-python",
   "name": "python",
   "nbconvert_exporter": "python",
   "pygments_lexer": "ipython3",
   "version": "3.9.12"
  }
 },
 "nbformat": 4,
 "nbformat_minor": 5
}
