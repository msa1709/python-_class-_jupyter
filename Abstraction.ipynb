{
 "cells": [
  {
   "cell_type": "code",
   "execution_count": 4,
   "id": "56a3dd8b",
   "metadata": {},
   "outputs": [
    {
     "name": "stdout",
     "output_type": "stream",
     "text": [
      "Woof!\n",
      "Meow\n"
     ]
    }
   ],
   "source": [
    "from abc import ABC,abstractmethod \n",
    "class Animal(ABC):\n",
    "    @abstractmethod \n",
    "    def speak(self):\n",
    "        pass \n",
    "class Dog(Animal):\n",
    "    def speak(self):\n",
    "        return \"Woof!\" \n",
    "class Cat(Animal):\n",
    "    def speak(self):\n",
    "        return \"Meow\" \n",
    "dog =Dog() \n",
    "cat =Cat() \n",
    "print(dog.speak()) \n",
    "print(cat.speak()) \n"
   ]
  },
  {
   "cell_type": "code",
   "execution_count": 5,
   "id": "794c0100",
   "metadata": {},
   "outputs": [],
   "source": []
  },
  {
   "cell_type": "code",
   "execution_count": 6,
   "id": "85af2a43",
   "metadata": {},
   "outputs": [
    {
     "name": "stdout",
     "output_type": "stream",
     "text": [
      "Brand: Maruti\n",
      "Model: Alto\n",
      "Year: 2022\n",
      "speed up ...\n"
     ]
    }
   ],
   "source": [
    "#import abc \n",
    "# Import required modules\n",
    "from abc import ABC, abstractmethod\n",
    "# Create Abstract base class\n",
    "class Car(ABC):\n",
    "    def __init__(self, brand, model, year):\n",
    "        self.brand = brand\n",
    "        self.model = model\n",
    "        self.year = year\n",
    "# Create abstract method\n",
    "    @abstractmethod\n",
    "    def printDetails(self):\n",
    "        pass\n",
    "# Create concrete method\n",
    "    def accelerate(self):\n",
    "        print(\"speed up ...\")\n",
    "    def break_applied(self):\n",
    "        print(\"Car stop\")\n",
    "# Create a child class\n",
    "class Hatchback(Car):\n",
    "    def printDetails(self):\n",
    "        print(\"Brand:\", self.brand);\n",
    "        print(\"Model:\", self.model);\n",
    "        print(\"Year:\", self.year);\n",
    "    def Sunroof(self):\n",
    "        print(\"Not having this feature\")\n",
    "# Create a child class\n",
    "class Suv(Car):\n",
    "    def printDetails(self):\n",
    "        print(\"Brand:\", self.brand);\n",
    "        print(\"Model:\", self.model);\n",
    "        print(\"Year:\", self.year);\n",
    "    def Sunroof(self):\n",
    "        print(\"Available\")\n",
    "car1 = Hatchback(\"Maruti\", \"Alto\", \"2022\");\n",
    "car1.printDetails()\n",
    "car1.accelerate()"
   ]
  },
  {
   "cell_type": "code",
   "execution_count": 7,
   "id": "036bc9b2",
   "metadata": {},
   "outputs": [
    {
     "name": "stdout",
     "output_type": "stream",
     "text": [
      "Book 'The Great Gatsby' lent to Alice.\n",
      "Book 'To Kill a Mockingbird' lent to Bob.\n",
      "Book 'The Great Gatsby' returned by Alice.\n",
      "Found Books:\n",
      "To Kill a Mockingbird by Harper Lee\n"
     ]
    }
   ],
   "source": [
    " class Book:\n",
    "    def __init__(self, title, author, isbn):\n",
    "        self.title = title\n",
    "        self.author = author\n",
    "        self.isbn = isbn\n",
    "        self.available = True\n",
    "    def __str__(self):\n",
    "        return f\"{self.title} by {self.author}\"\n",
    "class Patron:\n",
    "    def __init__(self, name, id):\n",
    "        self.name = name\n",
    "        self.id = id\n",
    "        self.borrowed_books = []\n",
    "    def borrow_book(self, book):\n",
    "        self.borrowed_books.append(book)\n",
    "    def return_book(self, book):\n",
    "        self.borrowed_books.remove(book)\n",
    "class Library:\n",
    "    def __init__(self):\n",
    "        self.books = []\n",
    "        self.patrons = []\n",
    "    def add_book(self, book):\n",
    "        self.books.append(book)\n",
    "    def register_patron(self, patron):\n",
    "        self.patrons.append(patron)\n",
    "    def lend_book(self, book_title, patron_id):\n",
    "        for book in self.books:\n",
    "            if book.title == book_title and book.available:\n",
    "                for patron in self.patrons:\n",
    "                    if patron.id == patron_id:\n",
    "                        patron.borrow_book(book)\n",
    "                        book.available = False\n",
    "                        print(f\"Book '{book.title}' lent to {patron.name}.\")\n",
    "                        return\n",
    "        print(\"Book not found or unavailable.\")\n",
    "    def return_book(self, book_title, patron_id):\n",
    "        for book in self.books:\n",
    "            if book.title == book_title:\n",
    "                for patron in self.patrons:\n",
    "                    if patron.id == patron_id and book in patron.borrowed_books:\n",
    "                        patron.return_book(book)\n",
    "                        book.available = True\n",
    "                        print(f\"Book '{book.title}' returned by {patron.name}.\")\n",
    "                        return\n",
    "        print(\"Book not found or not borrowed by this patron.\")\n",
    "    def search_book(self, keyword):\n",
    "        found_books = [book for book in self.books if keyword.lower() in book.title.lower()]\n",
    "        if found_books:\n",
    "            print(\"Found Books:\")\n",
    "            for book in found_books:\n",
    "                print(book)\n",
    "        else:\n",
    "            print(\"No books found.\")\n",
    "# Sample usage\n",
    "library = Library()\n",
    "book1 = Book(\"The Great Gatsby\", \"F. Scott Fitzgerald\", \"9780743273565\")\n",
    "book2 = Book(\"To Kill a Mockingbird\", \"Harper Lee\", \"9780061120084\")\n",
    "library.add_book(book1)\n",
    "library.add_book(book2)\n",
    "patron1 = Patron(\"Alice\", 101)\n",
    "patron2 = Patron(\"Bob\", 102)\n",
    "library.register_patron(patron1)\n",
    "library.register_patron(patron2)\n",
    "library.lend_book(\"The Great Gatsby\", 101)\n",
    "library.lend_book(\"To Kill a Mockingbird\", 102)\n",
    "library.return_book(\"The Great Gatsby\", 101)\n",
    "library.search_book(\"mockingbird\")"
   ]
  },
  {
   "cell_type": "code",
   "execution_count": null,
   "id": "7d2bfd36",
   "metadata": {},
   "outputs": [],
   "source": []
  }
 ],
 "metadata": {
  "kernelspec": {
   "display_name": "Python 3 (ipykernel)",
   "language": "python",
   "name": "python3"
  },
  "language_info": {
   "codemirror_mode": {
    "name": "ipython",
    "version": 3
   },
   "file_extension": ".py",
   "mimetype": "text/x-python",
   "name": "python",
   "nbconvert_exporter": "python",
   "pygments_lexer": "ipython3",
   "version": "3.9.12"
  }
 },
 "nbformat": 4,
 "nbformat_minor": 5
}
