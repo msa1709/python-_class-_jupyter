{
 "cells": [
  {
   "cell_type": "code",
   "execution_count": null,
   "id": "232f29d2",
   "metadata": {},
   "outputs": [],
   "source": [
    "#python inheritance \n",
    "#inheritance allow us to define a class that inherits all the methods and properties from another class \n",
    "#parent class is the class being inherited from also called base class \n",
    "#child class is the class that inherits from another class also called derived class.\n",
    "\n",
    "\n",
    "class p1:\n",
    "    def hi(self):\n",
    "        print(\"hiiii\") \n",
    "class p2:\n",
    "    def hi1(self):\n",
    "        print('hiiiii2') \n",
    "ob1 = p1() \n",
    "print(ob1.hi())\n",
    "ob2  \n",
    "\n",
    "#Single Inheritance :\n",
    "# a child class inherits from only one parent class \n",
    "\n",
    "#Multiple inheritance"
   ]
  },
  {
   "cell_type": "code",
   "execution_count": 1,
   "id": "1fbaba75",
   "metadata": {},
   "outputs": [
    {
     "name": "stdout",
     "output_type": "stream",
     "text": [
      "Mike Olsen\n"
     ]
    }
   ],
   "source": [
    "class Person:\n",
    "    def __init__(self, fname, lname):\n",
    "        self.firstname = fname \n",
    "        self.lastname = lname \n",
    "    def printname(self):\n",
    "        print(self.firstname, self.lastname) \n",
    "class Student(Person):\n",
    "    pass \n",
    "x= Student(\"Mike\" , \"Olsen\")\n",
    "x.printname()"
   ]
  },
  {
   "cell_type": "code",
   "execution_count": 2,
   "id": "43fe39f5",
   "metadata": {},
   "outputs": [
    {
     "name": "stdout",
     "output_type": "stream",
     "text": [
      "I can eat\n",
      "My name is Python\n"
     ]
    }
   ],
   "source": [
    "class Animal:\n",
    "    #attribute and method of the parent class \n",
    "    name =\"\" \n",
    "    def eat(self):\n",
    "        print(\"I can eat\") \n",
    "#inherit from Animal\n",
    "class Dog(Animal):\n",
    "    #new method in subclass\n",
    "    def display(self):\n",
    "        #access name attribute of supe class using self\n",
    "        print(\"My name is\" , self.name) \n",
    "#create an object of the subclass\n",
    "labrador = Dog() \n",
    "#access superclass attribute and method\n",
    "labrador.name =\"Python\" \n",
    "labrador.eat() \n",
    "#call subclass method\n",
    "labrador.display()"
   ]
  },
  {
   "cell_type": "code",
   "execution_count": 1,
   "id": "c1aa7e12",
   "metadata": {},
   "outputs": [
    {
     "name": "stdout",
     "output_type": "stream",
     "text": [
      "Mammals can give direct birth\n",
      "Winged animals can flap.\n"
     ]
    }
   ],
   "source": [
    "class Mammal:\n",
    "    def mammal_info(self):\n",
    "        print(\"Mammals can give direct birth\")  \n",
    "class WingedAnimal:\n",
    "    def winged_animal_info(self):\n",
    "        print(\"Winged animals can flap.\") \n",
    "class Bat(Mammal,WingedAnimal):\n",
    "    pass \n",
    "#create an object of Bat class\n",
    "b1 =Bat() \n",
    "b1.mammal_info() \n",
    "b1.winged_animal_info()"
   ]
  },
  {
   "cell_type": "code",
   "execution_count": 4,
   "id": "6a4d88ba",
   "metadata": {},
   "outputs": [
    {
     "name": "stdout",
     "output_type": "stream",
     "text": [
      "Teaching students.\n",
      "Conducting research.\n"
     ]
    }
   ],
   "source": [
    "class Lecturer:\n",
    "    def teach(self):\n",
    "        return \"Teaching students.\" \n",
    "class Researcher:\n",
    "    def research(self):\n",
    "        return \"Conducting research.\" \n",
    "class Professor(Lecturer,Researcher):\n",
    "    pass \n",
    "professor_john = Professor() \n",
    "print(professor_john.teach())\n",
    "print(professor_john.research())"
   ]
  },
  {
   "cell_type": "code",
   "execution_count": 6,
   "id": "f6fc1af8",
   "metadata": {},
   "outputs": [
    {
     "name": "stdout",
     "output_type": "stream",
     "text": [
      "Device reset.\n",
      "Device powered on.\n",
      "Charging battery\n"
     ]
    }
   ],
   "source": [
    "class DeviceControl:\n",
    "    def power_on(self):\n",
    "        return \"Device powered on.\" \n",
    "    def power_off(self):\n",
    "        return \"Device powered off\" \n",
    "    def reset(self):\n",
    "        return \"Device reset.\" \n",
    "class BatteryManagement:\n",
    "    def get_batter_status(self):\n",
    "        return \"Battery status: 80%\" \n",
    "    def charge(self):\n",
    "        return \"Charging battery\" \n",
    "    def check_battery_health(self):\n",
    "        return \"Battery health: Good\"\n",
    "class ElectronicDevice(DeviceControl, BatteryManagement):\n",
    "    def brand_info(self):\n",
    "        return \"vivo 5G Model\" \n",
    "smartphone = ElectronicDevice() \n",
    "#utilizing inherited methods \n",
    "print(smartphone.reset()) \n",
    "print(smartphone.power_on()) \n",
    "print(smartphone.charge())"
   ]
  },
  {
   "cell_type": "code",
   "execution_count": null,
   "id": "bb66f42f",
   "metadata": {},
   "outputs": [],
   "source": []
  }
 ],
 "metadata": {
  "kernelspec": {
   "display_name": "Python 3 (ipykernel)",
   "language": "python",
   "name": "python3"
  },
  "language_info": {
   "codemirror_mode": {
    "name": "ipython",
    "version": 3
   },
   "file_extension": ".py",
   "mimetype": "text/x-python",
   "name": "python",
   "nbconvert_exporter": "python",
   "pygments_lexer": "ipython3",
   "version": "3.9.12"
  }
 },
 "nbformat": 4,
 "nbformat_minor": 5
}
