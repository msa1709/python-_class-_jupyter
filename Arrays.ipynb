{
 "cells": [
  {
   "cell_type": "markdown",
   "id": "30471789",
   "metadata": {},
   "source": [
    "# ARRAYS"
   ]
  },
  {
   "cell_type": "markdown",
   "id": "9f84d5bb",
   "metadata": {},
   "source": [
    "A python array is a collection of common type of data structures having elements with same data type \n",
    "It is used to store collections of data.In Python Programmming an arrays are handled by the array module \n",
    "If you create arrays using the array module. elemnt of the array must be of the same numeric type."
   ]
  },
  {
   "cell_type": "markdown",
   "id": "cda45a13",
   "metadata": {},
   "source": [
    "# whento use array in python \n"
   ]
  },
  {
   "cell_type": "code",
   "execution_count": null,
   "id": "15f59095",
   "metadata": {},
   "outputs": [],
   "source": [
    "Python arrays are used when you need to use many variables which are of the same type \n",
    "Python arrays are much faster than list as it uses less memory. \n",
    "array Name = array.array(datatype, [array items]) \n",
    "array -> Module Name \n",
    "array -> Method \n",
    "datatype -> Datatype \n",
    "arrayitems -> Elements \n",
    "arrayName = ArrayName"
   ]
  },
  {
   "cell_type": "code",
   "execution_count": null,
   "id": "6ad26b6c",
   "metadata": {},
   "outputs": [],
   "source": [
    "# typecode   |       pyhton datatype   |    byte size\n",
    "  i        |           int           |        2\n",
    "  I        |           int           |        2      \n",
    "  u        |    unicodecharacter     |        2           \n",
    "  h        |           int           |        2               \n",
    "  H        |           int           |        2              \n",
    "  l        |           int           |        4               \n",
    "  L        |           int           |        4  \n",
    "  f        |          float          |        4             \n",
    "  d        |          fload          |        4"
   ]
  },
  {
   "cell_type": "markdown",
   "id": "11b19ec1",
   "metadata": {},
   "source": [
    "# ARRAY OPERATIONS"
   ]
  },
  {
   "cell_type": "markdown",
   "id": "6404f85f",
   "metadata": {},
   "source": [
    "1)Adding changing \n",
    "2)removing deleting \n",
    "3)looping \n",
    "4)concatenating \n",
    "5)slicing "
   ]
  },
  {
   "cell_type": "code",
   "execution_count": 2,
   "id": "68c02713",
   "metadata": {},
   "outputs": [
    {
     "name": "stdout",
     "output_type": "stream",
     "text": [
      "array('i', [90, 47, 67, 34, 56])\n",
      "5\n",
      "1\n"
     ]
    }
   ],
   "source": [
    "import array as ar \n",
    "a =ar.array('i', [90,47,67,34,56])\n",
    "print(a)\n",
    "print(len(a))\n",
    "print(a.count(90))"
   ]
  },
  {
   "cell_type": "code",
   "execution_count": 7,
   "id": "96e7c956",
   "metadata": {},
   "outputs": [
    {
     "name": "stdout",
     "output_type": "stream",
     "text": [
      "array('i', [90, 47, 67, 34, 56, 87, 56, 54, 87, 56, 54, 87, 56, 54, 87, 56, 54, 87, 56, 54])\n"
     ]
    }
   ],
   "source": [
    "a.append(87) \n",
    "a.extend([56,54]) \n",
    "print(a)"
   ]
  },
  {
   "cell_type": "code",
   "execution_count": 8,
   "id": "1b96fc82",
   "metadata": {},
   "outputs": [
    {
     "name": "stdout",
     "output_type": "stream",
     "text": [
      "array('d', [90.0, 45.0, 67.0, 34.0, 56.0, 90.0])\n"
     ]
    }
   ],
   "source": [
    "a = ar.array('d', [90,45,67,34,56,90])\n",
    "print(a)"
   ]
  },
  {
   "cell_type": "code",
   "execution_count": 9,
   "id": "bff5f598",
   "metadata": {},
   "outputs": [
    {
     "name": "stdout",
     "output_type": "stream",
     "text": [
      "array('i', [90, 45, 67, 34, 56, 90])\n",
      "array('i', [90, 45, 67, 34, 42, 56, 90])\n"
     ]
    }
   ],
   "source": [
    "a= ar.array('i', [90,45,67,34,56,90]) \n",
    "print(a)\n",
    "a.insert(4,42) \n",
    "print(a)"
   ]
  },
  {
   "cell_type": "code",
   "execution_count": 11,
   "id": "ea49d2c7",
   "metadata": {},
   "outputs": [
    {
     "name": "stdout",
     "output_type": "stream",
     "text": [
      "90\n",
      "34\n"
     ]
    }
   ],
   "source": [
    "a= ar.array('i', [90,45,67,34,56,90])  \n",
    "print(max(a))\n",
    "print(min(a))"
   ]
  },
  {
   "cell_type": "code",
   "execution_count": 12,
   "id": "05010a6a",
   "metadata": {},
   "outputs": [
    {
     "name": "stdout",
     "output_type": "stream",
     "text": [
      "Array of z is: array('i', [60, 45, 13, 12, 14, 12, 10, 9, 45, 90, 60, 25])\n"
     ]
    }
   ],
   "source": [
    "#Array Concatenation \n",
    "import array as ar \n",
    "x= ar.array('i', [60, 45, 13, 12, 14,12,10, 9]) \n",
    "y =ar.array('i', [45,90,60,25]) \n",
    "z=x+y \n",
    "print('Array of z is:', z)"
   ]
  },
  {
   "cell_type": "code",
   "execution_count": 13,
   "id": "57ceb739",
   "metadata": {},
   "outputs": [
    {
     "name": "stdout",
     "output_type": "stream",
     "text": [
      "All Values:\n",
      "60 45 13 12 14 12 10 9 45 90 60 25 \n",
      " Speciofic Values:\n",
      "45\n",
      "13\n",
      "12\n",
      "14\n",
      "12\n",
      "10\n"
     ]
    }
   ],
   "source": [
    "#looping through array \n",
    "print(\"All Values:\") \n",
    "for x in z:\n",
    "    print(x, end=' ') \n",
    "print(\"\\n Speciofic Values:\") \n",
    "for n in z[1:7]:\n",
    "    print(n)"
   ]
  },
  {
   "cell_type": "code",
   "execution_count": null,
   "id": "412b9fd8",
   "metadata": {},
   "outputs": [],
   "source": []
  }
 ],
 "metadata": {
  "kernelspec": {
   "display_name": "Python 3 (ipykernel)",
   "language": "python",
   "name": "python3"
  },
  "language_info": {
   "codemirror_mode": {
    "name": "ipython",
    "version": 3
   },
   "file_extension": ".py",
   "mimetype": "text/x-python",
   "name": "python",
   "nbconvert_exporter": "python",
   "pygments_lexer": "ipython3",
   "version": "3.9.12"
  }
 },
 "nbformat": 4,
 "nbformat_minor": 5
}
