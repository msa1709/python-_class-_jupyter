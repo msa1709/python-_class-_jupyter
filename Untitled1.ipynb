{
 "cells": [
  {
   "cell_type": "code",
   "execution_count": null,
   "id": "c6bdf325",
   "metadata": {},
   "outputs": [],
   "source": [
    "'''What is class? \n",
    "A class is a collection of objects.A class contains the blueprints or the prototype from which the objects are being created\n",
    "It is a logical entity that contains some attributes and methods. \n",
    "Some points on Python class:\n",
    "Classes are created by keyword class. \n",
    "Attributes are the variables that belong to a class \n",
    "Attributes are always public and can be accessed using the dot(.) operator '''                                                                 \n",
    "\n",
    "\n",
    "#what is an object?\n",
    "'''Objects are the basic run-time entites in an object oriented system Instance of a class \n",
    "They may represent a person, a place, a bank account, a table of data or any item that the program must handle.'''  \n",
    "#the self \n",
    "'''Class methods must have an extra first parameter in the method definition.We do not give a value for this '''\n",
    "#inheritance \n",
    "'''It represents real world relationships well. \n",
    "It provides the reusability of a code. \n",
    "It is transitive in nature which means that if class B inherits from another class A then all subclasses of B would automatically \n",
    "inherit from class A \n",
    "Base Class \n",
    "derived class\n",
    "\n",
    "' ''   \n"
   ]
  }
 ],
 "metadata": {
  "kernelspec": {
   "display_name": "Python 3 (ipykernel)",
   "language": "python",
   "name": "python3"
  },
  "language_info": {
   "codemirror_mode": {
    "name": "ipython",
    "version": 3
   },
   "file_extension": ".py",
   "mimetype": "text/x-python",
   "name": "python",
   "nbconvert_exporter": "python",
   "pygments_lexer": "ipython3",
   "version": "3.9.12"
  }
 },
 "nbformat": 4,
 "nbformat_minor": 5
}
