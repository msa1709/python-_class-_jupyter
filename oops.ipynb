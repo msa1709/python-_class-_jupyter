{
 "cells": [
  {
   "cell_type": "code",
   "execution_count": null,
   "id": "0a9cb32b",
   "metadata": {},
   "outputs": [],
   "source": [
    "object - car\n"
   ]
  },
  {
   "cell_type": "code",
   "execution_count": null,
   "id": "001a12bc",
   "metadata": {},
   "outputs": [],
   "source": [
    "object - state, behaviour "
   ]
  },
  {
   "cell_type": "code",
   "execution_count": null,
   "id": "3c4eea81",
   "metadata": {},
   "outputs": [],
   "source": [
    "state - variable - attribute\n",
    "behaviour - method - function"
   ]
  },
  {
   "cell_type": "code",
   "execution_count": 1,
   "id": "c7422784",
   "metadata": {},
   "outputs": [
    {
     "name": "stdout",
     "output_type": "stream",
     "text": [
      "<class '__main__.MyClass'>\n"
     ]
    }
   ],
   "source": [
    "class MyClass:\n",
    "    x=5 \n",
    "print(MyClass)"
   ]
  },
  {
   "cell_type": "code",
   "execution_count": 3,
   "id": "a062888f",
   "metadata": {},
   "outputs": [
    {
     "name": "stdout",
     "output_type": "stream",
     "text": [
      "5\n"
     ]
    }
   ],
   "source": [
    "#create object \n",
    "#Now we can use the class named MyClass to create objects \n",
    "class MyClass:\n",
    "    x=5 \n",
    "object_1 = MyClass()  #object create \n",
    "print(object_1.x)"
   ]
  },
  {
   "cell_type": "code",
   "execution_count": 12,
   "id": "66b7d21e",
   "metadata": {},
   "outputs": [
    {
     "name": "stdout",
     "output_type": "stream",
     "text": [
      "Employee ID: 1001\n",
      "Employee ID: 1002\n",
      "employee id :0\n"
     ]
    }
   ],
   "source": [
    "#create multiple objects of python class \n",
    "#we can also create multiple objects from as single class for example:\n",
    "class Employee:\n",
    "    employee_id = 0 \n",
    "#create two objects of the Employee Class\n",
    "employee1 = Employee() \n",
    "employee2 = Employee() \n",
    "#access properties using employee1 \n",
    "employee1.employeeID = 1001 \n",
    "print(f\"Employee ID: {employee1.employeeID}\") \n",
    "#access properties using employee2 \n",
    "employee2.employeeID=1002 \n",
    "print(f\"Employee ID: {employee2.employeeID}\")\n",
    "print(f\"employee id :{employee2.employee_id}\")"
   ]
  },
  {
   "cell_type": "code",
   "execution_count": 23,
   "id": "22b42df6",
   "metadata": {},
   "outputs": [
    {
     "name": "stdout",
     "output_type": "stream",
     "text": [
      "Nokia\n",
      "3.1+\n",
      "good morning Nokia\n"
     ]
    }
   ],
   "source": [
    "class phone:\n",
    "    name='Nokia' \n",
    "    model ='3.1+' \n",
    "    def display(self):\n",
    "        print('good morning', self.name)\n",
    "cell= phone() \n",
    "print(cell.name)\n",
    "print(cell.model) \n",
    "cell.display() \n"
   ]
  },
  {
   "cell_type": "code",
   "execution_count": 16,
   "id": "51756672",
   "metadata": {},
   "outputs": [
    {
     "name": "stdout",
     "output_type": "stream",
     "text": [
      "honda\n",
      "CB350\n",
      "40kmpl\n",
      "4stroke engine\n"
     ]
    }
   ],
   "source": [
    "class bike:\n",
    "    name ='honda'\n",
    "    model='CB350'  \n",
    "    mileage='40kmpl' \n",
    "    engine ='4stroke engine'\n",
    "features = bike() \n",
    "print(features.name) \n",
    "print(features.model)\n",
    "print(features.mileage) \n",
    "print(features.engine)"
   ]
  },
  {
   "cell_type": "code",
   "execution_count": 27,
   "id": "82df5ab9",
   "metadata": {},
   "outputs": [
    {
     "name": "stdout",
     "output_type": "stream",
     "text": [
      "details: Aravind 9993457664 aravindgggd@gmail.com\n"
     ]
    }
   ],
   "source": [
    "class studentdetails:\n",
    "    name='Aravind' \n",
    "    number='9993457664' \n",
    "    mailid= 'aravindgggd@gmail.com' \n",
    "    def details(self):\n",
    "        print('details:', self.name, self.number, self.mailid)\n",
    "school =studentdetails() \n",
    "school.details()"
   ]
  },
  {
   "cell_type": "code",
   "execution_count": 29,
   "id": "476a2780",
   "metadata": {},
   "outputs": [
    {
     "name": "stdout",
     "output_type": "stream",
     "text": [
      "details: Aravind 9994808403 aravindwas@gmail.com\n"
     ]
    }
   ],
   "source": [
    "class studentdetails:\n",
    "    def __init__(self, name,number,mailid):\n",
    "        self.name =name \n",
    "        self.number =number \n",
    "        self.mailid = mailid \n",
    "    def display(self_1):\n",
    "        print(\"details:\", self_1.name, self_1.number, self_1.mailid) \n",
    "det = studentdetails(\"Aravind\", \"9994808403\", \"aravindwas@gmail.com\")\n",
    "det.display()"
   ]
  },
  {
   "cell_type": "code",
   "execution_count": 33,
   "id": "06df3883",
   "metadata": {},
   "outputs": [
    {
     "name": "stdout",
     "output_type": "stream",
     "text": [
      "5\n"
     ]
    }
   ],
   "source": [
    "class mathematics:\n",
    "    def __init__(self,num1,num2):\n",
    "        self.num1 =num1 \n",
    "        self.num2 =num2 \n",
    "    def display(obj2):\n",
    "        print(obj2.num1+obj2.num2)\n",
    "mat =mathematics(2,3)        \n",
    "mat.display()"
   ]
  },
  {
   "cell_type": "code",
   "execution_count": null,
   "id": "47c9df7f",
   "metadata": {},
   "outputs": [],
   "source": [
    "#create class name\n",
    "#3 function \n",
    "#1 init \n",
    "#2 fun name --> name, age \n",
    "#3 fun_"
   ]
  },
  {
   "cell_type": "code",
   "execution_count": 2,
   "id": "f2b2ca92",
   "metadata": {},
   "outputs": [
    {
     "name": "stdout",
     "output_type": "stream",
     "text": [
      "Aravind 25\n",
      "kovil street aravindvivek@gmail\n"
     ]
    }
   ],
   "source": [
    "class student:\n",
    "    def __init__(self,name,age,address,mail):\n",
    "        self.name=name \n",
    "        self.age=age \n",
    "        self.address=address \n",
    "        self.mail= mail \n",
    "    def first_function(obj1):\n",
    "        print(obj1.name, obj1.age)\n",
    "    def second_function(obj2):\n",
    "        print(obj2.address, obj2.mail) \n",
    "mat =student(\"Aravind\", \"25\", \"kovil street\", \"aravindvivek@gmail\")\n",
    "mat.first_function() \n",
    "mat.second_function()"
   ]
  },
  {
   "cell_type": "code",
   "execution_count": 9,
   "id": "d55f9f7e",
   "metadata": {},
   "outputs": [],
   "source": [
    "class pyhton:\n",
    "    def met(Self):\n",
    "        pass\n",
    "obj =pyhton()\n",
    "obj.met()"
   ]
  },
  {
   "cell_type": "code",
   "execution_count": null,
   "id": "3bc6ab2a",
   "metadata": {},
   "outputs": [],
   "source": [
    "class student:\n",
    "    count =0 \n",
    "    def __init__():\n",
    "        student.count=student.count+1  "
   ]
  },
  {
   "cell_type": "code",
   "execution_count": 10,
   "id": "66c892bd",
   "metadata": {},
   "outputs": [
    {
     "name": "stdout",
     "output_type": "stream",
     "text": [
      "This is non parametrized constructor\n",
      "Hello  John\n"
     ]
    }
   ],
   "source": [
    "#constructor non  parameterized \n",
    "class Student:\n",
    "    #constructor -non parameterized \n",
    "    def __init__(self):\n",
    "        print(\"This is non parametrized constructor\")\n",
    "    def show(self,name):\n",
    "        print(\"Hello \", name) \n",
    "student = Student() \n",
    "student.show(\"John\")"
   ]
  },
  {
   "cell_type": "code",
   "execution_count": 12,
   "id": "c921f2b5",
   "metadata": {},
   "outputs": [
    {
     "name": "stdout",
     "output_type": "stream",
     "text": [
      "This is parametrized constructor\n",
      "Hello  John\n"
     ]
    }
   ],
   "source": [
    "#parameterized constructor \n",
    "class Student:\n",
    "    def __init__(self, name):\n",
    "        print(\"This is parametrized constructor\")\n",
    "        self.name= name \n",
    "    def show(self):\n",
    "        print(\"Hello \", self.name) \n",
    "student = Student(\"John\")\n",
    "student.show()"
   ]
  },
  {
   "cell_type": "code",
   "execution_count": 15,
   "id": "8639965f",
   "metadata": {},
   "outputs": [
    {
     "name": "stdout",
     "output_type": "stream",
     "text": [
      "101 Joseph\n"
     ]
    }
   ],
   "source": [
    "#default constructor \n",
    "class Student:\n",
    "    roll_num =101 \n",
    "    name =\"Joseph\" \n",
    "    def display(self):\n",
    "        print(self.roll_num, self.name) \n",
    "st=Student() \n",
    "st.display()\n"
   ]
  },
  {
   "cell_type": "code",
   "execution_count": 14,
   "id": "6c73d8b5",
   "metadata": {},
   "outputs": [
    {
     "name": "stdout",
     "output_type": "stream",
     "text": [
      "The second constructor\n"
     ]
    }
   ],
   "source": [
    "class Student:\n",
    "    def __init__(self):\n",
    "        print(\"The First Constructor\")\n",
    "    def __init__(self):\n",
    "        print(\"The second constructor\") \n",
    "st=Student()"
   ]
  },
  {
   "cell_type": "code",
   "execution_count": 17,
   "id": "02a57ae3",
   "metadata": {},
   "outputs": [
    {
     "name": "stdout",
     "output_type": "stream",
     "text": [
      "36\n",
      "40\n"
     ]
    }
   ],
   "source": [
    "class Person:\n",
    "    def __init__(self, name, age):\n",
    "        self.name = name \n",
    "        self.age = age \n",
    "    def myfunc(self):\n",
    "        print(\"Hello my name is \" + self.name) \n",
    "p1 = Person(\"python\", 36) \n",
    "print(p1.age) \n",
    "p1.age=40 \n",
    "print(p1.age)"
   ]
  },
  {
   "cell_type": "code",
   "execution_count": 14,
   "id": "659d14a6",
   "metadata": {},
   "outputs": [
    {
     "ename": "AttributeError",
     "evalue": "'Person' object has no attribute 'age'",
     "output_type": "error",
     "traceback": [
      "\u001b[1;31m---------------------------------------------------------------------------\u001b[0m",
      "\u001b[1;31mAttributeError\u001b[0m                            Traceback (most recent call last)",
      "Input \u001b[1;32mIn [14]\u001b[0m, in \u001b[0;36m<cell line: 11>\u001b[1;34m()\u001b[0m\n\u001b[0;32m      9\u001b[0m p1 \u001b[38;5;241m=\u001b[39m Person(\u001b[38;5;124m\"\u001b[39m\u001b[38;5;124mpython\u001b[39m\u001b[38;5;124m\"\u001b[39m, \u001b[38;5;241m36\u001b[39m) \n\u001b[0;32m     10\u001b[0m \u001b[38;5;28;01mdel\u001b[39;00m p1\u001b[38;5;241m.\u001b[39mage\n\u001b[1;32m---> 11\u001b[0m \u001b[38;5;28mprint\u001b[39m(\u001b[43mp1\u001b[49m\u001b[38;5;241;43m.\u001b[39;49m\u001b[43mage\u001b[49m)\n",
      "\u001b[1;31mAttributeError\u001b[0m: 'Person' object has no attribute 'age'"
     ]
    }
   ],
   "source": [
    "#delete object properties \n",
    "class Person:\n",
    "    gender='M'\n",
    "    def __init__(self,name,age):\n",
    "        self.name = name \n",
    "        self.age= age \n",
    "    def myfunct(self):\n",
    "        print(\"Hello my name is \" + self.name) \n",
    "p1 = Person(\"python\", 36) \n",
    "del p1.age\n",
    "print(p1.age)\n",
    "\n",
    "\n",
    "\n",
    "\n",
    "        "
   ]
  },
  {
   "cell_type": "code",
   "execution_count": 10,
   "id": "15d27cff",
   "metadata": {},
   "outputs": [
    {
     "name": "stdout",
     "output_type": "stream",
     "text": [
      "Name is Kumar \n",
      " age is 24\n",
      "Name is Krishna \n",
      " age is 23\n"
     ]
    }
   ],
   "source": [
    "class Person:\n",
    "    name ='Krishna' \n",
    "    def __init__(self,age):\n",
    "        self.age =age \n",
    "    def myfunction(self_1):\n",
    "        print(\"Name is\" ,self_1.name, \"\\n age is\", self_1.age ) \n",
    "p1=Person(24) \n",
    "p1.name=\"Kumar\"\n",
    "p1.myfunction()  \n",
    "p2 =Person(23) \n",
    "p2.myfunction()   \n"
   ]
  },
  {
   "cell_type": "code",
   "execution_count": 19,
   "id": "f67d4723",
   "metadata": {},
   "outputs": [
    {
     "name": "stdout",
     "output_type": "stream",
     "text": [
      "36 M\n",
      "f\n"
     ]
    }
   ],
   "source": [
    "#delete object properties \n",
    "class Person:\n",
    "    gender='M'\n",
    "    def __init__(self,name,age):\n",
    "        self.name = name \n",
    "        self.age= age \n",
    "    def myfunct(self):\n",
    "        print(\"Hello my name is \" + self.name) \n",
    "p1 = Person(\"python\", 36)  \n",
    "print(p1.age,p1.gender) \n",
    "p1.gender ='f' \n",
    "print(p1.gender)"
   ]
  },
  {
   "cell_type": "code",
   "execution_count": 25,
   "id": "f740bc94",
   "metadata": {},
   "outputs": [
    {
     "name": "stdout",
     "output_type": "stream",
     "text": [
      "hi hello this doc\n",
      "hi hello this doc\n",
      "{'name': 'john', 'id': 101, 'age': 22}\n",
      "{'__module__': '__main__', '__doc__': 'hi hello this doc', '__init__': <function Student.__init__ at 0x0000026DE3103B80>, 'hi': <function Student.hi at 0x0000026DE3103940>, '__dict__': <attribute '__dict__' of 'Student' objects>, '__weakref__': <attribute '__weakref__' of 'Student' objects>}\n"
     ]
    },
    {
     "data": {
      "text/plain": [
       "(object,)"
      ]
     },
     "execution_count": 25,
     "metadata": {},
     "output_type": "execute_result"
    }
   ],
   "source": [
    "class Student: \n",
    "    '''hi hello this doc'''\n",
    "    def __init__(self,name,id,age):\n",
    "        self.name =name \n",
    "        self.id =id \n",
    "        self.age= age  \n",
    "    def hi(self):\n",
    "        print(\"ji\") \n",
    "s= Student(\"john\" , 101, 22) \n",
    "print(s. __doc__)\n",
    "print(Student. __doc__)\n",
    "print(s.__dict__)\n",
    "print(Student.__dict__) \n",
    "Student. __bases__"
   ]
  },
  {
   "cell_type": "code",
   "execution_count": null,
   "id": "0cb45114",
   "metadata": {},
   "outputs": [],
   "source": []
  }
 ],
 "metadata": {
  "kernelspec": {
   "display_name": "Python 3 (ipykernel)",
   "language": "python",
   "name": "python3"
  },
  "language_info": {
   "codemirror_mode": {
    "name": "ipython",
    "version": 3
   },
   "file_extension": ".py",
   "mimetype": "text/x-python",
   "name": "python",
   "nbconvert_exporter": "python",
   "pygments_lexer": "ipython3",
   "version": "3.9.12"
  }
 },
 "nbformat": 4,
 "nbformat_minor": 5
}
