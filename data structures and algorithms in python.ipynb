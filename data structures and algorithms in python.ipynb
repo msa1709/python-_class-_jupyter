{
 "cells": [
  {
   "cell_type": "markdown",
   "id": "fde145cf",
   "metadata": {},
   "source": [
    "# big o notation \n"
   ]
  },
  {
   "cell_type": "code",
   "execution_count": null,
   "id": "b1b77731",
   "metadata": {},
   "outputs": [],
   "source": [
    "big o notation is used to measure how running time or space requirements for your program grow as input size grows."
   ]
  },
  {
   "cell_type": "code",
   "execution_count": null,
   "id": "1323fff2",
   "metadata": {},
   "outputs": [],
   "source": [
    "measuring time complexity \n",
    "measuring running time growth :time complexity \n",
    "measuring space growth:space complexity"
   ]
  }
 ],
 "metadata": {
  "kernelspec": {
   "display_name": "Python 3 (ipykernel)",
   "language": "python",
   "name": "python3"
  },
  "language_info": {
   "codemirror_mode": {
    "name": "ipython",
    "version": 3
   },
   "file_extension": ".py",
   "mimetype": "text/x-python",
   "name": "python",
   "nbconvert_exporter": "python",
   "pygments_lexer": "ipython3",
   "version": "3.9.12"
  }
 },
 "nbformat": 4,
 "nbformat_minor": 5
}
