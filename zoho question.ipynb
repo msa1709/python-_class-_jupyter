{
 "cells": [
  {
   "cell_type": "code",
   "execution_count": 8,
   "id": "bed46230",
   "metadata": {},
   "outputs": [
    {
     "ename": "TypeError",
     "evalue": "__init__() missing 3 required positional arguments: 'flightNo', 'SeatClass', and 'TotalSeats'",
     "output_type": "error",
     "traceback": [
      "\u001b[1;31m---------------------------------------------------------------------------\u001b[0m",
      "\u001b[1;31mTypeError\u001b[0m                                 Traceback (most recent call last)",
      "Input \u001b[1;32mIn [8]\u001b[0m, in \u001b[0;36m<cell line: 10>\u001b[1;34m()\u001b[0m\n\u001b[0;32m      8\u001b[0m     \u001b[38;5;28;01mdef\u001b[39;00m \u001b[38;5;21mbooking_id\u001b[39m (self_1): \n\u001b[0;32m      9\u001b[0m         \u001b[38;5;28mprint\u001b[39m(self_1\u001b[38;5;241m.\u001b[39mbooking_id, self_1\u001b[38;5;241m.\u001b[39moperation)\n\u001b[1;32m---> 10\u001b[0m a\u001b[38;5;241m=\u001b[39m\u001b[43mAirplane\u001b[49m\u001b[43m(\u001b[49m\u001b[38;5;124;43m'\u001b[39;49m\u001b[38;5;124;43m1\u001b[39;49m\u001b[38;5;124;43m'\u001b[39;49m\u001b[43m \u001b[49m\u001b[43m,\u001b[49m\u001b[38;5;124;43m'\u001b[39;49m\u001b[38;5;124;43m101\u001b[39;49m\u001b[38;5;124;43m'\u001b[39;49m\u001b[43m \u001b[49m\u001b[43m)\u001b[49m \n\u001b[0;32m     11\u001b[0m a\u001b[38;5;241m.\u001b[39mbooking_id()\n",
      "\u001b[1;31mTypeError\u001b[0m: __init__() missing 3 required positional arguments: 'flightNo', 'SeatClass', and 'TotalSeats'"
     ]
    }
   ],
   "source": [
    "class Airplane():\n",
    "    def __init__ (self,booking_id, operation,flightNo,SeatClass,TotalSeats):\n",
    "        self.booking_id = booking_id\n",
    "        self.operation = operation \n",
    "        self.flightNo = flightNo \n",
    "        self.SeatClass = SeatClass \n",
    "        self.TotalSeats = TotalSeats  \n",
    "    def booking_id (self_1):\n",
    "        print()\n",
    "         "
   ]
  },
  {
   "cell_type": "code",
   "execution_count": null,
   "id": "fbb4564a",
   "metadata": {},
   "outputs": [],
   "source": []
  },
  {
   "cell_type": "code",
   "execution_count": null,
   "id": "7c1cd2f3",
   "metadata": {},
   "outputs": [],
   "source": []
  }
 ],
 "metadata": {
  "kernelspec": {
   "display_name": "Python 3 (ipykernel)",
   "language": "python",
   "name": "python3"
  },
  "language_info": {
   "codemirror_mode": {
    "name": "ipython",
    "version": 3
   },
   "file_extension": ".py",
   "mimetype": "text/x-python",
   "name": "python",
   "nbconvert_exporter": "python",
   "pygments_lexer": "ipython3",
   "version": "3.9.12"
  }
 },
 "nbformat": 4,
 "nbformat_minor": 5
}
