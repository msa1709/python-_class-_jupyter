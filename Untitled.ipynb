{
 "cells": [
  {
   "cell_type": "code",
   "execution_count": null,
   "id": "3d7dc2d0",
   "metadata": {},
   "outputs": [],
   "source": [
    "create a folder of git hub projects \n",
    "inside that folder create another folder for project \n",
    "inside the project folder search cmd in the location tab  \n",
    "In the cmd tab type\n",
    "\n",
    "\n",
    "git init - initialize \n",
    "git add .  - add the files\n",
    "git commit -m \"enter the file name \" \n",
    "git push   - push the code."
   ]
  }
 ],
 "metadata": {
  "kernelspec": {
   "display_name": "Python 3 (ipykernel)",
   "language": "python",
   "name": "python3"
  },
  "language_info": {
   "codemirror_mode": {
    "name": "ipython",
    "version": 3
   },
   "file_extension": ".py",
   "mimetype": "text/x-python",
   "name": "python",
   "nbconvert_exporter": "python",
   "pygments_lexer": "ipython3",
   "version": "3.9.12"
  }
 },
 "nbformat": 4,
 "nbformat_minor": 5
}
