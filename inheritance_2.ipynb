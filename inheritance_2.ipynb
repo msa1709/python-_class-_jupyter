{
 "cells": [
  {
   "cell_type": "code",
   "execution_count": 2,
   "id": "14138e19",
   "metadata": {},
   "outputs": [
    {
     "name": "stdout",
     "output_type": "stream",
     "text": [
      "Super Class method called\n",
      "Derived class 1 method called\n"
     ]
    }
   ],
   "source": [
    "class SuperClass:\n",
    "    def super_method(self):\n",
    "        print(\"Super Class method called\") \n",
    "class DerivedClass1(SuperClass):\n",
    "    def derived1_method(self):\n",
    "        print(\"Derived class 1 method called\") \n",
    "class DerivedClass2(DerivedClass1):\n",
    "    def derived2_method(self):\n",
    "        print(\"Derived class 2 method called\") \n",
    "d2 = DerivedClass2() \n",
    "d2.super_method() \n",
    "d2.derived1_method()\n",
    "    "
   ]
  },
  {
   "cell_type": "code",
   "execution_count": 4,
   "id": "f2ca5f0c",
   "metadata": {},
   "outputs": [
    {
     "name": "stdout",
     "output_type": "stream",
     "text": [
      "I can eat\n"
     ]
    }
   ],
   "source": [
    "#single inheritance\n",
    "class Animal:\n",
    "    name = \"\"\n",
    "    def eat(self):\n",
    "        print(\"I can eat\")\n",
    "        \n",
    "class dog(Animal):\n",
    "    dog_age = 1   \n",
    "\n",
    "c =dog()\n",
    "c.eat()"
   ]
  },
  {
   "cell_type": "code",
   "execution_count": 28,
   "id": "12ae2491",
   "metadata": {},
   "outputs": [
    {
     "name": "stdout",
     "output_type": "stream",
     "text": [
      "dog_age = 10\n"
     ]
    }
   ],
   "source": [
    "#multiple inheritance \n",
    "class Animal:\n",
    "    name = \"\"\n",
    "    def eat(self):\n",
    "        print(\"I can eat\")\n",
    "        \n",
    "class dog:\n",
    "    def age(self):\n",
    "        print(\"dog_age = 10\")\n",
    "        \n",
    "class cat(Animal,dog):\n",
    "    def sound(self):\n",
    "        return \"meow meow\"\n",
    "c=cat() \n",
    "c.eat()"
   ]
  },
  {
   "cell_type": "code",
   "execution_count": 34,
   "id": "00092c34",
   "metadata": {},
   "outputs": [
    {
     "name": "stdout",
     "output_type": "stream",
     "text": [
      "I can eat\n"
     ]
    }
   ],
   "source": [
    "#multilevel inheritance\n",
    "class Animal:\n",
    "    name = \"\"\n",
    "    def eat(self):\n",
    "        print(\"I can eat\")\n",
    "        \n",
    "class dog(Animal):\n",
    "    def age(self):\n",
    "        print(\"dog_age = 10\")\n",
    "        \n",
    "class cat(dog):\n",
    "    def sound (self):\n",
    "        return \"meow meow\"\n",
    "    \n",
    "c = cat()\n",
    "c.age()"
   ]
  },
  {
   "cell_type": "code",
   "execution_count": 37,
   "id": "5b79eb88",
   "metadata": {},
   "outputs": [
    {
     "data": {
      "text/plain": [
       "'meow meow'"
      ]
     },
     "execution_count": 37,
     "metadata": {},
     "output_type": "execute_result"
    }
   ],
   "source": [
    "#Hierarchical Inheritance: \n",
    "class Animal:\n",
    "    name = \"\"\n",
    "    def eat(self):\n",
    "        print(\"I can eat\")\n",
    "        \n",
    "class dog(Animal):\n",
    "    def age(self):\n",
    "        print(\"dog_age = 10\")\n",
    "        \n",
    "class cat(Animal):\n",
    "    def sound (self):\n",
    "        return \"meow meow\" \n",
    "    \n",
    "    \n",
    "c = cat()\n",
    "c.sound()"
   ]
  },
  {
   "cell_type": "code",
   "execution_count": null,
   "id": "df2a1af2",
   "metadata": {},
   "outputs": [],
   "source": []
  }
 ],
 "metadata": {
  "kernelspec": {
   "display_name": "Python 3 (ipykernel)",
   "language": "python",
   "name": "python3"
  },
  "language_info": {
   "codemirror_mode": {
    "name": "ipython",
    "version": 3
   },
   "file_extension": ".py",
   "mimetype": "text/x-python",
   "name": "python",
   "nbconvert_exporter": "python",
   "pygments_lexer": "ipython3",
   "version": "3.9.12"
  }
 },
 "nbformat": 4,
 "nbformat_minor": 5
}
