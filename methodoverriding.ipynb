{
 "cells": [
  {
   "cell_type": "code",
   "execution_count": 4,
   "id": "be602107",
   "metadata": {},
   "outputs": [
    {
     "name": "stdout",
     "output_type": "stream",
     "text": [
      "0 1 1 2 3 5 8 13 21 34 "
     ]
    }
   ],
   "source": [
    " num = 10\n",
    "n1, n2 = 0, 1\n",
    "if num == 1:\n",
    "    print(n1)\n",
    "else:\n",
    "    print(n1, n2, end=\" \")\n",
    "    for i in range(2, num):\n",
    "        n3 = n1 + n2\n",
    "        n1 = n2\n",
    "        n2 = n3\n",
    "        print(n3, end=\" \")"
   ]
  },
  {
   "cell_type": "code",
   "execution_count": 6,
   "id": "160d3ef4",
   "metadata": {},
   "outputs": [
    {
     "name": "stdout",
     "output_type": "stream",
     "text": [
      "I like to eat bones\n"
     ]
    }
   ],
   "source": [
    "#method overriding \n",
    "class Animal:\n",
    "    #attributes and method of the parent class \n",
    "    name =\" \" \n",
    "    def eat(self):\n",
    "        print(\"I can eat\")  \n",
    "class Dog(Animal): \n",
    "    #override eat() method\n",
    "    def eat(self):\n",
    "        print(\"I like to eat bones\") \n",
    "#create an object of the subclass \n",
    "labrador = Dog() \n",
    "\n",
    "#call the eat() method  an the labrador object \n",
    "labrador.eat() \n"
   ]
  },
  {
   "cell_type": "code",
   "execution_count": 3,
   "id": "ec325d80",
   "metadata": {},
   "outputs": [
    {
     "name": "stdout",
     "output_type": "stream",
     "text": [
      "Bank Rate of interest: 10\n",
      "SBI Rate of interest: 7\n",
      "ICICI Rate of interest: 10\n"
     ]
    }
   ],
   "source": [
    "class Bank:\n",
    "    def getrol(self):\n",
    "        return 10; \n",
    "class SBI(Bank):\n",
    "    def getrol(Self):\n",
    "        return 7; \n",
    "class ICICI(Bank):\n",
    "    def getroi(self):\n",
    "        return 8; \n",
    "b1 = Bank() \n",
    "b2 = SBI() \n",
    "b3= ICICI() \n",
    "print(\"Bank Rate of interest:\", b1.getrol()); \n",
    "print(\"SBI Rate of interest:\", b2.getrol()); \n",
    "print(\"ICICI Rate of interest:\", b3.getrol()); \n"
   ]
  },
  {
   "cell_type": "code",
   "execution_count": 8,
   "id": "b445ec50",
   "metadata": {},
   "outputs": [
    {
     "name": "stdout",
     "output_type": "stream",
     "text": [
      "I can eat\n",
      "I like to eat bones\n"
     ]
    }
   ],
   "source": [
    "#method overriding \n",
    "class Animal:\n",
    "    #attributes and method of the parent class \n",
    "    name =\" \" \n",
    "    def eat(self):\n",
    "        print(\"I can eat\")  \n",
    "class Dog(Animal): \n",
    "    #override eat() method\n",
    "    def eat(self):\n",
    "        #call the eat() method of the superclass using super()\n",
    "        super().eat()\n",
    "        print(\"I like to eat bones\")\n",
    "#create an object of the subclass \n",
    "labrador = Dog() \n",
    "\n",
    "#call the eat() method  an the labrador object \n",
    "labrador.eat() "
   ]
  },
  {
   "cell_type": "code",
   "execution_count": 9,
   "id": "bd429c64",
   "metadata": {},
   "outputs": [
    {
     "name": "stdout",
     "output_type": "stream",
     "text": [
      "(3,5)\n"
     ]
    }
   ],
   "source": [
    "class Point:\n",
    "    def __init__(self, x=0, y=0):\n",
    "        self.x = x\n",
    "        self.y = y\n",
    "\n",
    "    def __str__(self):\n",
    "        return \"({0},{1})\".format(self.x, self.y)\n",
    "\n",
    "    def __add__(self, other):\n",
    "        x = self.x + other.x\n",
    "        y = self.y + other.y\n",
    "        return Point(x, y)\n",
    "\n",
    "\n",
    "p1 = Point(1, 2)\n",
    "p2 = Point(2, 3)\n",
    "\n",
    "print(p1+p2)\n"
   ]
  },
  {
   "cell_type": "code",
   "execution_count": 10,
   "id": "ff9485ff",
   "metadata": {},
   "outputs": [
    {
     "name": "stdout",
     "output_type": "stream",
     "text": [
      "True\n",
      "False\n"
     ]
    }
   ],
   "source": [
    "class Person:\n",
    "    def __init__(self, name, age):\n",
    "        self.name = name\n",
    "        self.age = age\n",
    "\n",
    "    # overload < operator\n",
    "    def __lt__(self, other):\n",
    "        return self.age < other.age\n",
    "\n",
    "p1 = Person(\"Alice\", 20)\n",
    "p2 = Person(\"Bob\", 30)\n",
    "\n",
    "print(p1 < p2)  # prints True\n",
    "print(p2 < p1)  # prints False"
   ]
  },
  {
   "cell_type": "code",
   "execution_count": null,
   "id": "75314e58",
   "metadata": {},
   "outputs": [],
   "source": []
  }
 ],
 "metadata": {
  "kernelspec": {
   "display_name": "Python 3 (ipykernel)",
   "language": "python",
   "name": "python3"
  },
  "language_info": {
   "codemirror_mode": {
    "name": "ipython",
    "version": 3
   },
   "file_extension": ".py",
   "mimetype": "text/x-python",
   "name": "python",
   "nbconvert_exporter": "python",
   "pygments_lexer": "ipython3",
   "version": "3.9.12"
  }
 },
 "nbformat": 4,
 "nbformat_minor": 5
}
