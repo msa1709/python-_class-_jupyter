{
 "cells": [
  {
   "cell_type": "code",
   "execution_count": 16,
   "id": "6435e67b",
   "metadata": {},
   "outputs": [
    {
     "name": "stdout",
     "output_type": "stream",
     "text": [
      "5\n",
      "3\n",
      "Result of addition: 8\n"
     ]
    }
   ],
   "source": [
    "#operator overloading\n",
    "class MyNumber:\n",
    "    def __init__(self, value):\n",
    "        self.value = value \n",
    "    #overload the \"+\" operator \n",
    "    def __add__(self, other):\n",
    "        return self.value+other.value\n",
    "#creating two MyNumber objects \n",
    "num1 =MyNumber(5) \n",
    "print(num1.value) \n",
    "num2 = MyNumber(3) \n",
    "print(num2.value) \n",
    "#Adding the two MyNumber objects\n",
    "result= num1+num2\n",
    "#Printing the result\n",
    "print(\"Result of addition:\", result)"
   ]
  },
  {
   "cell_type": "code",
   "execution_count": null,
   "id": "b45023d9",
   "metadata": {},
   "outputs": [],
   "source": []
  }
 ],
 "metadata": {
  "kernelspec": {
   "display_name": "Python 3 (ipykernel)",
   "language": "python",
   "name": "python3"
  },
  "language_info": {
   "codemirror_mode": {
    "name": "ipython",
    "version": 3
   },
   "file_extension": ".py",
   "mimetype": "text/x-python",
   "name": "python",
   "nbconvert_exporter": "python",
   "pygments_lexer": "ipython3",
   "version": "3.9.12"
  }
 },
 "nbformat": 4,
 "nbformat_minor": 5
}
